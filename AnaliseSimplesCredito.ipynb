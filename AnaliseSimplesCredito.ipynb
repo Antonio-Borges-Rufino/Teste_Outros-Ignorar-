{
  "nbformat": 4,
  "nbformat_minor": 0,
  "metadata": {
    "colab": {
      "name": "Untitled2.ipynb",
      "provenance": []
    },
    "kernelspec": {
      "name": "python3",
      "display_name": "Python 3"
    },
    "language_info": {
      "name": "python"
    }
  },
  "cells": [
    {
      "cell_type": "markdown",
      "metadata": {
        "id": "P9qVPE6z6Nej"
      },
      "source": [
        "Importação das bibliotecas\n"
      ]
    },
    {
      "cell_type": "code",
      "metadata": {
        "id": "ZitUqJO36Sly"
      },
      "source": [
        "import pandas as pd\n",
        "import numpy as np\n",
        "import statistics as st"
      ],
      "execution_count": 32,
      "outputs": []
    },
    {
      "cell_type": "code",
      "metadata": {
        "colab": {
          "base_uri": "https://localhost:8080/",
          "height": 204
        },
        "id": "6v2D8pLG6fJ1",
        "outputId": "3ac18652-825e-4022-a6d1-5f32bb6e38bf"
      },
      "source": [
        "df = pd.read_csv('risco_credito.csv')\n",
        "df.head(5)\n",
        "df.drop(columns=['signo','perfil_facebook'],inplace=True)\n",
        "df.dropna(inplace=True)\n",
        "df.drop_duplicates(inplace=True)\n",
        "df.loc[df.genero == 'f',['genero']] = 'Feminino'\n",
        "df.loc[df.genero == 'm',['genero']] = 'Masculino'\n",
        "df.head()"
      ],
      "execution_count": 33,
      "outputs": [
        {
          "output_type": "execute_result",
          "data": {
            "text/html": [
              "<div>\n",
              "<style scoped>\n",
              "    .dataframe tbody tr th:only-of-type {\n",
              "        vertical-align: middle;\n",
              "    }\n",
              "\n",
              "    .dataframe tbody tr th {\n",
              "        vertical-align: top;\n",
              "    }\n",
              "\n",
              "    .dataframe thead th {\n",
              "        text-align: right;\n",
              "    }\n",
              "</style>\n",
              "<table border=\"1\" class=\"dataframe\">\n",
              "  <thead>\n",
              "    <tr style=\"text-align: right;\">\n",
              "      <th></th>\n",
              "      <th>default</th>\n",
              "      <th>t_risco</th>\n",
              "      <th>valor_emprestimo</th>\n",
              "      <th>prazo_pagamento</th>\n",
              "      <th>limite_credito</th>\n",
              "      <th>renda</th>\n",
              "      <th>genero</th>\n",
              "      <th>n_emprestimos_inadiplentes</th>\n",
              "    </tr>\n",
              "  </thead>\n",
              "  <tbody>\n",
              "    <tr>\n",
              "      <th>0</th>\n",
              "      <td>False</td>\n",
              "      <td>0.43</td>\n",
              "      <td>20024.31</td>\n",
              "      <td>60.0</td>\n",
              "      <td>62386.0</td>\n",
              "      <td>59869.05</td>\n",
              "      <td>Feminino</td>\n",
              "      <td>0.0</td>\n",
              "    </tr>\n",
              "    <tr>\n",
              "      <th>4</th>\n",
              "      <td>False</td>\n",
              "      <td>0.08</td>\n",
              "      <td>24026.29</td>\n",
              "      <td>36.0</td>\n",
              "      <td>32366.0</td>\n",
              "      <td>90026.17</td>\n",
              "      <td>Masculino</td>\n",
              "      <td>0.0</td>\n",
              "    </tr>\n",
              "    <tr>\n",
              "      <th>6</th>\n",
              "      <td>False</td>\n",
              "      <td>0.42</td>\n",
              "      <td>10072.16</td>\n",
              "      <td>36.0</td>\n",
              "      <td>0.0</td>\n",
              "      <td>39335.52</td>\n",
              "      <td>Masculino</td>\n",
              "      <td>0.0</td>\n",
              "    </tr>\n",
              "    <tr>\n",
              "      <th>7</th>\n",
              "      <td>False</td>\n",
              "      <td>0.42</td>\n",
              "      <td>16016.97</td>\n",
              "      <td>60.0</td>\n",
              "      <td>102018.0</td>\n",
              "      <td>98772.00</td>\n",
              "      <td>Masculino</td>\n",
              "      <td>0.0</td>\n",
              "    </tr>\n",
              "    <tr>\n",
              "      <th>8</th>\n",
              "      <td>False</td>\n",
              "      <td>0.36</td>\n",
              "      <td>11517.24</td>\n",
              "      <td>60.0</td>\n",
              "      <td>0.0</td>\n",
              "      <td>62014.40</td>\n",
              "      <td>Feminino</td>\n",
              "      <td>0.0</td>\n",
              "    </tr>\n",
              "  </tbody>\n",
              "</table>\n",
              "</div>"
            ],
            "text/plain": [
              "  default  t_risco  ...     genero  n_emprestimos_inadiplentes\n",
              "0   False     0.43  ...   Feminino                         0.0\n",
              "4   False     0.08  ...  Masculino                         0.0\n",
              "6   False     0.42  ...  Masculino                         0.0\n",
              "7   False     0.42  ...  Masculino                         0.0\n",
              "8   False     0.36  ...   Feminino                         0.0\n",
              "\n",
              "[5 rows x 8 columns]"
            ]
          },
          "metadata": {},
          "execution_count": 33
        }
      ]
    },
    {
      "cell_type": "markdown",
      "metadata": {
        "id": "VhfdyqUG9t6r"
      },
      "source": [
        "Revisão da descrição numérica"
      ]
    },
    {
      "cell_type": "code",
      "metadata": {
        "colab": {
          "base_uri": "https://localhost:8080/"
        },
        "id": "aiNOdgPv9wgI",
        "outputId": "9eef0a46-25ec-486d-d4e5-582412bf1d5e"
      },
      "source": [
        "numericos = [df.t_risco,df.valor_emprestimo,df.prazo_pagamento,df.limite_credito,df.renda,df.n_emprestimos_inadiplentes]\n",
        "analise_descritiva={'t_risco':\n",
        "                    {\n",
        "                        'Media':st.mean(numericos[0]),\n",
        "                        'Mediana':st.median(numericos[0]),\n",
        "                        'Variancia':round(st.variance(numericos[0]),2),\n",
        "                        'Desvio_Padrão':round(st.stdev(numericos[0]),2),\n",
        "                        'Minimo_Valor': min(numericos[0]),\n",
        "                        'Máximo_Valor':max(numericos[0])\n",
        "                    },\n",
        "                    'valor_emprestimo':{\n",
        "                        'Media':st.mean(numericos[1]),\n",
        "                        'Mediana':st.median(numericos[1]),\n",
        "                        'Variancia':round(st.variance(numericos[1]),2),\n",
        "                        'Desvio_Padrão':round(st.stdev(numericos[1]),2),\n",
        "                        'Minimo_Valor': min(numericos[1]),\n",
        "                        'Máximo_Valor':max(numericos[1])\n",
        "                    },\n",
        "                    'prazo_pagamento':{\n",
        "                        'Media':st.mean(numericos[2]),\n",
        "                        'Mediana':st.median(numericos[2]),\n",
        "                        'Variancia':round(st.variance(numericos[2]),2),\n",
        "                        'Desvio_Padrão':round(st.stdev(numericos[2])),\n",
        "                        'Minimo_Valor': min(numericos[2]),\n",
        "                        'Máximo_Valor':max(numericos[2])\n",
        "                    },\n",
        "                    'limite_credito':{\n",
        "                        'Media':st.mean(numericos[3]),\n",
        "                        'Mediana':st.median(numericos[3]),\n",
        "                        'Variancia':round(st.variance(numericos[3]),2),\n",
        "                        'Desvio_Padrão':round(st.stdev(numericos[3])),\n",
        "                        'Minimo_Valor': min(numericos[3]),\n",
        "                        'Máximo_Valor':max(numericos[3])\n",
        "                    },\n",
        "                    'renda':{\n",
        "                         'Media':st.mean(numericos[4]),\n",
        "                        'Mediana':st.median(numericos[4]),\n",
        "                        'Variancia':round(st.variance(numericos[4]),2),\n",
        "                        'Desvio_Padrão':round(st.stdev(numericos[4])),\n",
        "                        'Minimo_Valor': min(numericos[4]),\n",
        "                        'Máximo_Valor':max(numericos[4])\n",
        "                    },\n",
        "                    'n_emprestimos_inadiplentes':{\n",
        "                        'Media':st.mean(numericos[5]),\n",
        "                        'Mediana':st.median(numericos[5]),\n",
        "                        'Variancia':round(st.variance(numericos[5]),2),\n",
        "                        'Desvio_Padrão':round(st.stdev(numericos[5])),\n",
        "                        'Minimo_Valor': min(numericos[5]),\n",
        "                        'Máximo_Valor':max(numericos[5])\n",
        "                    }\n",
        "                  }\n",
        "analise_descritiva"
      ],
      "execution_count": 34,
      "outputs": [
        {
          "output_type": "execute_result",
          "data": {
            "text/plain": [
              "{'limite_credito': {'Desvio_Padrão': 36663,\n",
              "  'Media': 34032.77221881704,\n",
              "  'Mediana': 25335.5,\n",
              "  'Minimo_Valor': 0.0,\n",
              "  'Máximo_Valor': 613117.0,\n",
              "  'Variancia': 1344147440.36},\n",
              " 'n_emprestimos_inadiplentes': {'Desvio_Padrão': 0,\n",
              "  'Media': 0.0066656451118602515,\n",
              "  'Mediana': 0.0,\n",
              "  'Minimo_Valor': 0.0,\n",
              "  'Máximo_Valor': 5.0,\n",
              "  'Variancia': 0.01},\n",
              " 'prazo_pagamento': {'Desvio_Padrão': 9,\n",
              "  'Media': 40.301562978853816,\n",
              "  'Mediana': 36.0,\n",
              "  'Minimo_Valor': 36.0,\n",
              "  'Máximo_Valor': 60.0,\n",
              "  'Variancia': 84.74},\n",
              " 'renda': {'Desvio_Padrão': 52809,\n",
              "  'Media': 72523.31128818062,\n",
              "  'Mediana': 62416.095,\n",
              "  'Minimo_Valor': 7221.3,\n",
              "  'Máximo_Valor': 5000027.83,\n",
              "  'Variancia': 2788819954.68},\n",
              " 't_risco': {'Desvio_Padrão': 0.1,\n",
              "  'Media': 0.29926524670548577,\n",
              "  'Mediana': 0.29,\n",
              "  'Minimo_Valor': 0.02,\n",
              "  'Máximo_Valor': 0.9,\n",
              "  'Variancia': 0.01},\n",
              " 'valor_emprestimo': {'Desvio_Padrão': 7959.58,\n",
              "  'Media': 14053.411178874247,\n",
              "  'Mediana': 12027.705,\n",
              "  'Minimo_Valor': 1005.18,\n",
              "  'Máximo_Valor': 35059.6,\n",
              "  'Variancia': 63354917.72}}"
            ]
          },
          "metadata": {},
          "execution_count": 34
        }
      ]
    },
    {
      "cell_type": "markdown",
      "metadata": {
        "id": "naEleWCfmNmt"
      },
      "source": [
        "Coeficiente de variação\n"
      ]
    },
    {
      "cell_type": "code",
      "metadata": {
        "colab": {
          "base_uri": "https://localhost:8080/"
        },
        "id": "SbtSLBqEnXZl",
        "outputId": "76cf9887-7ec1-4391-aee5-47174c54fad8"
      },
      "source": [
        "renda=analise_descritiva.get(\"renda\")\n",
        "limite_credito=analise_descritiva.get(\"limite_credito\")\n",
        "n_emprestimos_inadiplentes=analise_descritiva.get(\"n_emprestimos_inadiplentes\")\n",
        "prazo_pagamento=analise_descritiva.get(\"prazo_pagamento\")\n",
        "t_risco=analise_descritiva.get(\"t_risco\")\n",
        "valor_emprestimo=analise_descritiva.get(\"valor_emprestimo\")\n",
        "\n",
        "coeficente_variacao_renda = round((renda.get(\"Desvio_Padrão\")/renda.get(\"Media\"))*100,2)\n",
        "coeficente_variacao_limite_credito = round((limite_credito.get(\"Desvio_Padrão\")/renda.get(\"Media\"))*100,2)\n",
        "coeficente_variacao_n_emprestimos_inadiplentes = round((n_emprestimos_inadiplentes.get(\"Desvio_Padrão\")/renda.get(\"Media\"))*100,2)\n",
        "coeficente_variacao_prazo_pagamento = round((prazo_pagamento.get(\"Desvio_Padrão\")/renda.get(\"Media\"))*100,2)\n",
        "coeficente_variacao_t_risco = round((t_risco.get(\"Desvio_Padrão\")/renda.get(\"Media\"))*100,2)\n",
        "coeficente_variacao_valor_emprestimo = round((valor_emprestimo.get(\"Desvio_Padrão\")/renda.get(\"Media\"))*100,2)\n",
        "\n",
        "print(\"COEFICIENTE DE VARIAÇÃO\")\n",
        "print(coeficente_variacao_renda)\n",
        "print(coeficente_variacao_limite_credito)\n",
        "print(coeficente_variacao_n_emprestimos_inadiplentes)\n",
        "print(coeficente_variacao_prazo_pagamento)\n",
        "print(coeficente_variacao_t_risco)\n",
        "print(coeficente_variacao_valor_emprestimo)\n"
      ],
      "execution_count": 35,
      "outputs": [
        {
          "output_type": "stream",
          "name": "stdout",
          "text": [
            "COEFICIENTE DE VARIAÇÃO\n",
            "72.82\n",
            "50.55\n",
            "0.0\n",
            "0.01\n",
            "0.0\n",
            "10.98\n"
          ]
        }
      ]
    },
    {
      "cell_type": "markdown",
      "metadata": {
        "id": "njlURxtgqH4I"
      },
      "source": [
        ""
      ]
    },
    {
      "cell_type": "code",
      "metadata": {
        "colab": {
          "base_uri": "https://localhost:8080/"
        },
        "id": "GbvQyIOtq0az",
        "outputId": "5dec8f01-3e31-41a8-c2f4-a1972a7feabd"
      },
      "source": [
        "df.loc[df.default == True, ['default']] = 1\n",
        "df.loc[df.default == False, ['default']] = 0\n",
        "df.head()\n",
        "corre = df[['t_risco','renda']]\n",
        "print(corre.corr())\n",
        "corre = df[['t_risco','limite_credito']]\n",
        "print(corre.corr())\n",
        "corre = df[['t_risco','n_emprestimos_inadiplentes']]\n",
        "print(corre.corr())\n",
        "corre = df[['t_risco','prazo_pagamento']]\n",
        "print(corre.corr())\n",
        "corre = df[['t_risco','valor_emprestimo']]\n",
        "print(corre.corr())\n",
        "\n",
        "\n"
      ],
      "execution_count": 47,
      "outputs": [
        {
          "output_type": "stream",
          "name": "stdout",
          "text": [
            "          t_risco     renda\n",
            "t_risco  1.000000 -0.024037\n",
            "renda   -0.024037  1.000000\n",
            "                 t_risco  limite_credito\n",
            "t_risco         1.000000       -0.001061\n",
            "limite_credito -0.001061        1.000000\n",
            "                             t_risco  n_emprestimos_inadiplentes\n",
            "t_risco                     1.000000                    0.011792\n",
            "n_emprestimos_inadiplentes  0.011792                    1.000000\n",
            "                  t_risco  prazo_pagamento\n",
            "t_risco          1.000000         0.185131\n",
            "prazo_pagamento  0.185131         1.000000\n",
            "                   t_risco  valor_emprestimo\n",
            "t_risco           1.000000          0.042291\n",
            "valor_emprestimo  0.042291          1.000000\n"
          ]
        }
      ]
    },
    {
      "cell_type": "markdown",
      "metadata": {
        "id": "MFhIEB1txpPQ"
      },
      "source": [
        "Fatores que influenciam no risco de crédito:\n",
        "De acordo com o tratamento acima, nenhum dos fatores elencados influenciam no risco de crédito"
      ]
    }
  ]
}