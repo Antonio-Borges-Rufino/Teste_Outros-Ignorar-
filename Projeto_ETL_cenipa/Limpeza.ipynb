{
 "cells": [
  {
   "cell_type": "code",
   "execution_count": 2,
   "id": "33174feb",
   "metadata": {},
   "outputs": [
    {
     "data": {
      "text/html": [
       "<div>\n",
       "<style scoped>\n",
       "    .dataframe tbody tr th:only-of-type {\n",
       "        vertical-align: middle;\n",
       "    }\n",
       "\n",
       "    .dataframe tbody tr th {\n",
       "        vertical-align: top;\n",
       "    }\n",
       "\n",
       "    .dataframe thead th {\n",
       "        text-align: right;\n",
       "    }\n",
       "</style>\n",
       "<table border=\"1\" class=\"dataframe\">\n",
       "  <thead>\n",
       "    <tr style=\"text-align: right;\">\n",
       "      <th></th>\n",
       "      <th>codigo_ocorrencia</th>\n",
       "      <th>codigo_ocorrencia1</th>\n",
       "      <th>codigo_ocorrencia2</th>\n",
       "      <th>codigo_ocorrencia3</th>\n",
       "      <th>codigo_ocorrencia4</th>\n",
       "      <th>ocorrencia_classificacao</th>\n",
       "      <th>ocorrencia_latitude</th>\n",
       "      <th>ocorrencia_longitude</th>\n",
       "      <th>ocorrencia_cidade</th>\n",
       "      <th>ocorrencia_uf</th>\n",
       "      <th>...</th>\n",
       "      <th>ocorrencia_dia</th>\n",
       "      <th>ocorrencia_hora</th>\n",
       "      <th>investigacao_aeronave_liberada</th>\n",
       "      <th>investigacao_status</th>\n",
       "      <th>divulgacao_relatorio_numero</th>\n",
       "      <th>divulgacao_relatorio_publicado</th>\n",
       "      <th>divulgacao_dia_publicacao</th>\n",
       "      <th>total_recomendacoes</th>\n",
       "      <th>total_aeronaves_envolvidas</th>\n",
       "      <th>ocorrencia_saida_pista</th>\n",
       "    </tr>\n",
       "  </thead>\n",
       "  <tbody>\n",
       "    <tr>\n",
       "      <th>0</th>\n",
       "      <td>40211</td>\n",
       "      <td>40211</td>\n",
       "      <td>40211</td>\n",
       "      <td>40211</td>\n",
       "      <td>40211</td>\n",
       "      <td>INCIDENTE</td>\n",
       "      <td>**</td>\n",
       "      <td>**</td>\n",
       "      <td>RIO DE JANEIRO</td>\n",
       "      <td>RJ</td>\n",
       "      <td>...</td>\n",
       "      <td>2010-01-03</td>\n",
       "      <td>12:00:00</td>\n",
       "      <td>SIM</td>\n",
       "      <td>FINALIZADA</td>\n",
       "      <td>**</td>\n",
       "      <td>NÃO</td>\n",
       "      <td>NaN</td>\n",
       "      <td>0</td>\n",
       "      <td>1</td>\n",
       "      <td>NÃO</td>\n",
       "    </tr>\n",
       "    <tr>\n",
       "      <th>1</th>\n",
       "      <td>40349</td>\n",
       "      <td>40349</td>\n",
       "      <td>40349</td>\n",
       "      <td>40349</td>\n",
       "      <td>40349</td>\n",
       "      <td>INCIDENTE</td>\n",
       "      <td>NaN</td>\n",
       "      <td>NaN</td>\n",
       "      <td>BELÉM</td>\n",
       "      <td>PA</td>\n",
       "      <td>...</td>\n",
       "      <td>2010-01-03</td>\n",
       "      <td>11:05:00</td>\n",
       "      <td>SIM</td>\n",
       "      <td>FINALIZADA</td>\n",
       "      <td>NaN</td>\n",
       "      <td>NÃO</td>\n",
       "      <td>NaN</td>\n",
       "      <td>0</td>\n",
       "      <td>1</td>\n",
       "      <td>NÃO</td>\n",
       "    </tr>\n",
       "    <tr>\n",
       "      <th>2</th>\n",
       "      <td>40351</td>\n",
       "      <td>40351</td>\n",
       "      <td>40351</td>\n",
       "      <td>40351</td>\n",
       "      <td>40351</td>\n",
       "      <td>INCIDENTE</td>\n",
       "      <td>NaN</td>\n",
       "      <td>NaN</td>\n",
       "      <td>RIO DE JANEIRO</td>\n",
       "      <td>RJ</td>\n",
       "      <td>...</td>\n",
       "      <td>2010-01-03</td>\n",
       "      <td>03:00:00</td>\n",
       "      <td>SIM</td>\n",
       "      <td>FINALIZADA</td>\n",
       "      <td>NaN</td>\n",
       "      <td>NÃO</td>\n",
       "      <td>NaN</td>\n",
       "      <td>0</td>\n",
       "      <td>1</td>\n",
       "      <td>NÃO</td>\n",
       "    </tr>\n",
       "    <tr>\n",
       "      <th>3</th>\n",
       "      <td>39527</td>\n",
       "      <td>39527</td>\n",
       "      <td>39527</td>\n",
       "      <td>39527</td>\n",
       "      <td>39527</td>\n",
       "      <td>ACIDENTE</td>\n",
       "      <td>-13.1066666667</td>\n",
       "      <td>-55.9930555556</td>\n",
       "      <td>LUCAS DO RIO VERDE</td>\n",
       "      <td>MT</td>\n",
       "      <td>...</td>\n",
       "      <td>2010-01-04</td>\n",
       "      <td>17:30:00</td>\n",
       "      <td>SIM</td>\n",
       "      <td>FINALIZADA</td>\n",
       "      <td>A-539/CENIPA/2018</td>\n",
       "      <td>SIM</td>\n",
       "      <td>2019-10-28</td>\n",
       "      <td>0</td>\n",
       "      <td>1</td>\n",
       "      <td>NÃO</td>\n",
       "    </tr>\n",
       "    <tr>\n",
       "      <th>4</th>\n",
       "      <td>40324</td>\n",
       "      <td>40324</td>\n",
       "      <td>40324</td>\n",
       "      <td>40324</td>\n",
       "      <td>40324</td>\n",
       "      <td>INCIDENTE</td>\n",
       "      <td>NaN</td>\n",
       "      <td>NaN</td>\n",
       "      <td>PELOTAS</td>\n",
       "      <td>RS</td>\n",
       "      <td>...</td>\n",
       "      <td>2010-01-05</td>\n",
       "      <td>19:25:00</td>\n",
       "      <td>SIM</td>\n",
       "      <td>FINALIZADA</td>\n",
       "      <td>NaN</td>\n",
       "      <td>NÃO</td>\n",
       "      <td>NaN</td>\n",
       "      <td>0</td>\n",
       "      <td>1</td>\n",
       "      <td>NÃO</td>\n",
       "    </tr>\n",
       "  </tbody>\n",
       "</table>\n",
       "<p>5 rows × 22 columns</p>\n",
       "</div>"
      ],
      "text/plain": [
       "   codigo_ocorrencia  codigo_ocorrencia1  codigo_ocorrencia2  \\\n",
       "0              40211               40211               40211   \n",
       "1              40349               40349               40349   \n",
       "2              40351               40351               40351   \n",
       "3              39527               39527               39527   \n",
       "4              40324               40324               40324   \n",
       "\n",
       "   codigo_ocorrencia3  codigo_ocorrencia4 ocorrencia_classificacao  \\\n",
       "0               40211               40211                INCIDENTE   \n",
       "1               40349               40349                INCIDENTE   \n",
       "2               40351               40351                INCIDENTE   \n",
       "3               39527               39527                 ACIDENTE   \n",
       "4               40324               40324                INCIDENTE   \n",
       "\n",
       "  ocorrencia_latitude ocorrencia_longitude   ocorrencia_cidade ocorrencia_uf  \\\n",
       "0                  **                   **      RIO DE JANEIRO            RJ   \n",
       "1                 NaN                  NaN               BELÉM            PA   \n",
       "2                 NaN                  NaN      RIO DE JANEIRO            RJ   \n",
       "3      -13.1066666667       -55.9930555556  LUCAS DO RIO VERDE            MT   \n",
       "4                 NaN                  NaN             PELOTAS            RS   \n",
       "\n",
       "   ... ocorrencia_dia ocorrencia_hora investigacao_aeronave_liberada  \\\n",
       "0  ...     2010-01-03        12:00:00                            SIM   \n",
       "1  ...     2010-01-03        11:05:00                            SIM   \n",
       "2  ...     2010-01-03        03:00:00                            SIM   \n",
       "3  ...     2010-01-04        17:30:00                            SIM   \n",
       "4  ...     2010-01-05        19:25:00                            SIM   \n",
       "\n",
       "  investigacao_status divulgacao_relatorio_numero  \\\n",
       "0          FINALIZADA                          **   \n",
       "1          FINALIZADA                         NaN   \n",
       "2          FINALIZADA                         NaN   \n",
       "3          FINALIZADA           A-539/CENIPA/2018   \n",
       "4          FINALIZADA                         NaN   \n",
       "\n",
       "  divulgacao_relatorio_publicado divulgacao_dia_publicacao  \\\n",
       "0                            NÃO                       NaN   \n",
       "1                            NÃO                       NaN   \n",
       "2                            NÃO                       NaN   \n",
       "3                            SIM                2019-10-28   \n",
       "4                            NÃO                       NaN   \n",
       "\n",
       "  total_recomendacoes total_aeronaves_envolvidas  ocorrencia_saida_pista  \n",
       "0                   0                          1                     NÃO  \n",
       "1                   0                          1                     NÃO  \n",
       "2                   0                          1                     NÃO  \n",
       "3                   0                          1                     NÃO  \n",
       "4                   0                          1                     NÃO  \n",
       "\n",
       "[5 rows x 22 columns]"
      ]
     },
     "execution_count": 2,
     "metadata": {},
     "output_type": "execute_result"
    }
   ],
   "source": [
    "import pandas as pnd\n",
    "import pandera as pad\n",
    "data = pnd.read_csv('ocorrencias.csv',sep=';',parse_dates=['ocorrencia_dia'], dayfirst =True)#le o arquivo com o separador e ve uma das var como data\n",
    "data.head() #imprime as 5 primeiras linhas\n",
    "#data.tail() imprime os 5 ultimos aceita argumentos"
   ]
  },
  {
   "cell_type": "code",
   "execution_count": 9,
   "id": "fb26ee3f",
   "metadata": {},
   "outputs": [
    {
     "data": {
      "text/html": [
       "<div>\n",
       "<style scoped>\n",
       "    .dataframe tbody tr th:only-of-type {\n",
       "        vertical-align: middle;\n",
       "    }\n",
       "\n",
       "    .dataframe tbody tr th {\n",
       "        vertical-align: top;\n",
       "    }\n",
       "\n",
       "    .dataframe thead th {\n",
       "        text-align: right;\n",
       "    }\n",
       "</style>\n",
       "<table border=\"1\" class=\"dataframe\">\n",
       "  <thead>\n",
       "    <tr style=\"text-align: right;\">\n",
       "      <th></th>\n",
       "      <th>codigo_ocorrencia</th>\n",
       "      <th>codigo_ocorrencia1</th>\n",
       "      <th>codigo_ocorrencia2</th>\n",
       "      <th>codigo_ocorrencia3</th>\n",
       "      <th>codigo_ocorrencia4</th>\n",
       "      <th>ocorrencia_classificacao</th>\n",
       "      <th>ocorrencia_latitude</th>\n",
       "      <th>ocorrencia_longitude</th>\n",
       "      <th>ocorrencia_cidade</th>\n",
       "      <th>ocorrencia_uf</th>\n",
       "      <th>...</th>\n",
       "      <th>ocorrencia_dia</th>\n",
       "      <th>ocorrencia_hora</th>\n",
       "      <th>investigacao_aeronave_liberada</th>\n",
       "      <th>investigacao_status</th>\n",
       "      <th>divulgacao_relatorio_numero</th>\n",
       "      <th>divulgacao_relatorio_publicado</th>\n",
       "      <th>divulgacao_dia_publicacao</th>\n",
       "      <th>total_recomendacoes</th>\n",
       "      <th>total_aeronaves_envolvidas</th>\n",
       "      <th>ocorrencia_saida_pista</th>\n",
       "    </tr>\n",
       "  </thead>\n",
       "  <tbody>\n",
       "    <tr>\n",
       "      <th>10</th>\n",
       "      <td>39789</td>\n",
       "      <td>39789</td>\n",
       "      <td>39789</td>\n",
       "      <td>39789</td>\n",
       "      <td>39789</td>\n",
       "      <td>INCIDENTE</td>\n",
       "      <td>NaN</td>\n",
       "      <td>NaN</td>\n",
       "      <td>SÃO PEDRO DO SUL</td>\n",
       "      <td>RS</td>\n",
       "      <td>...</td>\n",
       "      <td>2010-01-10</td>\n",
       "      <td>21:30:00</td>\n",
       "      <td>**</td>\n",
       "      <td>NaN</td>\n",
       "      <td>NaN</td>\n",
       "      <td>NÃO</td>\n",
       "      <td>NaN</td>\n",
       "      <td>0</td>\n",
       "      <td>1</td>\n",
       "      <td>NÃO</td>\n",
       "    </tr>\n",
       "    <tr>\n",
       "      <th>40</th>\n",
       "      <td>39158</td>\n",
       "      <td>39158</td>\n",
       "      <td>39158</td>\n",
       "      <td>39158</td>\n",
       "      <td>39158</td>\n",
       "      <td>INCIDENTE</td>\n",
       "      <td>**</td>\n",
       "      <td>**</td>\n",
       "      <td>BELÉM</td>\n",
       "      <td>PA</td>\n",
       "      <td>...</td>\n",
       "      <td>2010-01-28</td>\n",
       "      <td>16:00:00</td>\n",
       "      <td>SIM</td>\n",
       "      <td>FINALIZADA</td>\n",
       "      <td>NaN</td>\n",
       "      <td>NÃO</td>\n",
       "      <td>NaN</td>\n",
       "      <td>0</td>\n",
       "      <td>1</td>\n",
       "      <td>NÃO</td>\n",
       "    </tr>\n",
       "  </tbody>\n",
       "</table>\n",
       "<p>2 rows × 22 columns</p>\n",
       "</div>"
      ],
      "text/plain": [
       "    codigo_ocorrencia  codigo_ocorrencia1  codigo_ocorrencia2  \\\n",
       "10              39789               39789               39789   \n",
       "40              39158               39158               39158   \n",
       "\n",
       "    codigo_ocorrencia3  codigo_ocorrencia4 ocorrencia_classificacao  \\\n",
       "10               39789               39789                INCIDENTE   \n",
       "40               39158               39158                INCIDENTE   \n",
       "\n",
       "   ocorrencia_latitude ocorrencia_longitude ocorrencia_cidade ocorrencia_uf  \\\n",
       "10                 NaN                  NaN  SÃO PEDRO DO SUL            RS   \n",
       "40                  **                   **             BELÉM            PA   \n",
       "\n",
       "    ... ocorrencia_dia ocorrencia_hora investigacao_aeronave_liberada  \\\n",
       "10  ...     2010-01-10        21:30:00                             **   \n",
       "40  ...     2010-01-28        16:00:00                            SIM   \n",
       "\n",
       "   investigacao_status divulgacao_relatorio_numero  \\\n",
       "10                 NaN                         NaN   \n",
       "40          FINALIZADA                         NaN   \n",
       "\n",
       "   divulgacao_relatorio_publicado divulgacao_dia_publicacao  \\\n",
       "10                            NÃO                       NaN   \n",
       "40                            NÃO                       NaN   \n",
       "\n",
       "   total_recomendacoes total_aeronaves_envolvidas  ocorrencia_saida_pista  \n",
       "10                   0                          1                     NÃO  \n",
       "40                   0                          1                     NÃO  \n",
       "\n",
       "[2 rows x 22 columns]"
      ]
     },
     "execution_count": 9,
     "metadata": {},
     "output_type": "execute_result"
    }
   ],
   "source": [
    "data.loc[1:3,'ocorrencia_cidade']#pega as informações da coluna ocorrencia cidade das linhas 1:3\n",
    "data.loc[[10,40]]#pega as informações das colunas 10 e 40"
   ]
  },
  {
   "cell_type": "code",
   "execution_count": 10,
   "id": "e2274d16",
   "metadata": {},
   "outputs": [
    {
     "data": {
      "text/plain": [
       "True"
      ]
     },
     "execution_count": 10,
     "metadata": {},
     "output_type": "execute_result"
    }
   ],
   "source": [
    "data.codigo_ocorrencia.is_unique   # ve se os valores de uma coluna são unicos"
   ]
  },
  {
   "cell_type": "code",
   "execution_count": 13,
   "id": "d6711c3b",
   "metadata": {},
   "outputs": [
    {
     "ename": "KeyError",
     "evalue": "\"None of ['codigo_ocorrencia'] are in the columns\"",
     "output_type": "error",
     "traceback": [
      "\u001b[1;31m---------------------------------------------------------------------------\u001b[0m",
      "\u001b[1;31mKeyError\u001b[0m                                  Traceback (most recent call last)",
      "\u001b[1;32m<ipython-input-13-11dbdf2e3523>\u001b[0m in \u001b[0;36m<module>\u001b[1;34m\u001b[0m\n\u001b[1;32m----> 1\u001b[1;33m \u001b[0mdata\u001b[0m\u001b[1;33m.\u001b[0m\u001b[0mset_index\u001b[0m\u001b[1;33m(\u001b[0m\u001b[1;34m'codigo_ocorrencia'\u001b[0m\u001b[1;33m,\u001b[0m\u001b[0minplace\u001b[0m\u001b[1;33m=\u001b[0m\u001b[1;32mTrue\u001b[0m\u001b[1;33m)\u001b[0m\u001b[1;33m\u001b[0m\u001b[1;33m\u001b[0m\u001b[0m\n\u001b[0m",
      "\u001b[1;32mC:\\ProgramData\\Anaconda3\\lib\\site-packages\\pandas\\core\\frame.py\u001b[0m in \u001b[0;36mset_index\u001b[1;34m(self, keys, drop, append, inplace, verify_integrity)\u001b[0m\n\u001b[0;32m   4725\u001b[0m \u001b[1;33m\u001b[0m\u001b[0m\n\u001b[0;32m   4726\u001b[0m         \u001b[1;32mif\u001b[0m \u001b[0mmissing\u001b[0m\u001b[1;33m:\u001b[0m\u001b[1;33m\u001b[0m\u001b[1;33m\u001b[0m\u001b[0m\n\u001b[1;32m-> 4727\u001b[1;33m             \u001b[1;32mraise\u001b[0m \u001b[0mKeyError\u001b[0m\u001b[1;33m(\u001b[0m\u001b[1;34mf\"None of {missing} are in the columns\"\u001b[0m\u001b[1;33m)\u001b[0m\u001b[1;33m\u001b[0m\u001b[1;33m\u001b[0m\u001b[0m\n\u001b[0m\u001b[0;32m   4728\u001b[0m \u001b[1;33m\u001b[0m\u001b[0m\n\u001b[0;32m   4729\u001b[0m         \u001b[1;32mif\u001b[0m \u001b[0minplace\u001b[0m\u001b[1;33m:\u001b[0m\u001b[1;33m\u001b[0m\u001b[1;33m\u001b[0m\u001b[0m\n",
      "\u001b[1;31mKeyError\u001b[0m: \"None of ['codigo_ocorrencia'] are in the columns\""
     ]
    }
   ],
   "source": [
    "data.set_index('codigo_ocorrencia',inplace=True)#seta um index para o dataframe"
   ]
  },
  {
   "cell_type": "code",
   "execution_count": 15,
   "id": "ca6ca389",
   "metadata": {},
   "outputs": [
    {
     "data": {
      "text/plain": [
       "codigo_ocorrencia1                              40211\n",
       "codigo_ocorrencia2                              40211\n",
       "codigo_ocorrencia3                              40211\n",
       "codigo_ocorrencia4                              40211\n",
       "ocorrencia_classificacao                    INCIDENTE\n",
       "ocorrencia_latitude                                **\n",
       "ocorrencia_longitude                               **\n",
       "ocorrencia_cidade                      RIO DE JANEIRO\n",
       "ocorrencia_uf                                      RJ\n",
       "ocorrencia_pais                                BRASIL\n",
       "ocorrencia_aerodromo                              ***\n",
       "ocorrencia_dia                    2010-01-03 00:00:00\n",
       "ocorrencia_hora                              12:00:00\n",
       "investigacao_aeronave_liberada                    SIM\n",
       "investigacao_status                        FINALIZADA\n",
       "divulgacao_relatorio_numero                        **\n",
       "divulgacao_relatorio_publicado                    NÃO\n",
       "divulgacao_dia_publicacao                         NaN\n",
       "total_recomendacoes                                 0\n",
       "total_aeronaves_envolvidas                          1\n",
       "ocorrencia_saida_pista                            NÃO\n",
       "Name: 40211, dtype: object"
      ]
     },
     "execution_count": 15,
     "metadata": {},
     "output_type": "execute_result"
    }
   ],
   "source": [
    "data.loc[40211]# pega as informações pelo index"
   ]
  },
  {
   "cell_type": "code",
   "execution_count": 17,
   "id": "8c0398c0",
   "metadata": {},
   "outputs": [],
   "source": [
    "data.reset_index(drop=True, inplace=True)#reseta os index"
   ]
  },
  {
   "cell_type": "code",
   "execution_count": 20,
   "id": "f9abdd14",
   "metadata": {},
   "outputs": [],
   "source": [
    "data.loc[0,'ocorrencia_classificacao'] = '' #altera um valor da lonha 0 na coluna ocorrencia_cassificação"
   ]
  },
  {
   "cell_type": "code",
   "execution_count": 26,
   "id": "83d4324f",
   "metadata": {},
   "outputs": [],
   "source": [
    "data['Ocorrencia_backup'] = data.codigo_ocorrencia1 #cria uma nova coluna  "
   ]
  },
  {
   "cell_type": "code",
   "execution_count": 27,
   "id": "6bade749",
   "metadata": {},
   "outputs": [],
   "source": [
    "data.loc[:,'ocorrencia_pais'] = 'Brasil' #altera o valor de todas as linhas da coluna ocorrencia_pais"
   ]
  },
  {
   "cell_type": "code",
   "execution_count": 30,
   "id": "3804151e",
   "metadata": {},
   "outputs": [],
   "source": [
    "data.loc[data.ocorrencia_aerodromo=='***','ocorrencia_aerodromo'] = '' #troca os dados *** por '' em ocorrencia aerodromo"
   ]
  },
  {
   "cell_type": "code",
   "execution_count": 31,
   "id": "1690a06f",
   "metadata": {},
   "outputs": [
    {
     "data": {
      "text/plain": [
       "0           \n",
       "1       SBBE\n",
       "2       SBRJ\n",
       "3           \n",
       "4       SBPK\n",
       "        ... \n",
       "5747    SBKP\n",
       "5748        \n",
       "5749    SBGL\n",
       "5750        \n",
       "5751    SBJR\n",
       "Name: ocorrencia_aerodromo, Length: 5752, dtype: object"
      ]
     },
     "execution_count": 31,
     "metadata": {},
     "output_type": "execute_result"
    }
   ],
   "source": [
    "data.loc[:,'ocorrencia_aerodromo']#ve todos os dados da ocorrencia aerodromo"
   ]
  },
  {
   "cell_type": "code",
   "execution_count": 32,
   "id": "f62e34ea",
   "metadata": {},
   "outputs": [],
   "source": [
    "data.loc[data.ocorrencia_aerodromo == '****',['ocorrencia_aerodromo']] = pnd.NA"
   ]
  },
  {
   "cell_type": "code",
   "execution_count": 35,
   "id": "e7334f35",
   "metadata": {},
   "outputs": [],
   "source": [
    "data.replace(['**','###!','####','****','*****',' ','','***'],pnd.NA,inplace=True)"
   ]
  },
  {
   "cell_type": "code",
   "execution_count": 36,
   "id": "2b48b50b",
   "metadata": {},
   "outputs": [
    {
     "data": {
      "text/plain": [
       "0       <NA>\n",
       "1       SBBE\n",
       "2       SBRJ\n",
       "3       <NA>\n",
       "4       SBPK\n",
       "        ... \n",
       "5747    SBKP\n",
       "5748    <NA>\n",
       "5749    SBGL\n",
       "5750    <NA>\n",
       "5751    SBJR\n",
       "Name: ocorrencia_aerodromo, Length: 5752, dtype: object"
      ]
     },
     "execution_count": 36,
     "metadata": {},
     "output_type": "execute_result"
    }
   ],
   "source": [
    "data.loc[:,'ocorrencia_aerodromo']"
   ]
  },
  {
   "cell_type": "code",
   "execution_count": 43,
   "id": "1c570d1f",
   "metadata": {},
   "outputs": [],
   "source": [
    "data.isna().sum()#sumariza os dados NA(nulos) do metodo passado\n",
    "data.isnull().sum() #sumariza os dados nulos\n",
    "data.fillna(value={'ocorrencia_hora':10},inplace=True) #muda as ocorrencias hora que estao NA para 10"
   ]
  },
  {
   "cell_type": "code",
   "execution_count": 44,
   "id": "f76d39f8",
   "metadata": {},
   "outputs": [
    {
     "data": {
      "text/plain": [
       "codigo_ocorrencia1                   0\n",
       "codigo_ocorrencia2                   0\n",
       "codigo_ocorrencia3                   0\n",
       "codigo_ocorrencia4                   0\n",
       "ocorrencia_classificacao             1\n",
       "ocorrencia_latitude               2296\n",
       "ocorrencia_longitude              2298\n",
       "ocorrencia_cidade                    0\n",
       "ocorrencia_uf                        1\n",
       "ocorrencia_pais                      0\n",
       "ocorrencia_aerodromo              2349\n",
       "ocorrencia_dia                       0\n",
       "ocorrencia_hora                      0\n",
       "investigacao_aeronave_liberada    2482\n",
       "investigacao_status                340\n",
       "divulgacao_relatorio_numero       3800\n",
       "divulgacao_relatorio_publicado       0\n",
       "divulgacao_dia_publicacao         4258\n",
       "total_recomendacoes                  0\n",
       "total_aeronaves_envolvidas           0\n",
       "ocorrencia_saida_pista               0\n",
       "Ocorrencia_backup                    0\n",
       "dtype: int64"
      ]
     },
     "execution_count": 44,
     "metadata": {},
     "output_type": "execute_result"
    }
   ],
   "source": [
    "data.isna().sum()"
   ]
  },
  {
   "cell_type": "code",
   "execution_count": 46,
   "id": "7efc5124",
   "metadata": {},
   "outputs": [],
   "source": [
    "data.drop(['Ocorrencia_backup'], axis=1, inplace=True) #dropa uma coluna, axios = 0 exclui uma linha"
   ]
  },
  {
   "cell_type": "code",
   "execution_count": 52,
   "id": "71151c94",
   "metadata": {},
   "outputs": [],
   "source": [
    "data.dropna(inplace=True) # exclui todas as linhas que possuem NA das alterações passadas\n",
    "data.dropna(subset=['ocorrencia_latitude'],inplace=True)#ECLUI AS LINHAS DE UMA COLUNA\n",
    "data.drop_duplicates(inplace=True)#exclui as linhas duplicadas"
   ]
  },
  {
   "cell_type": "code",
   "execution_count": null,
   "id": "15931c7d",
   "metadata": {},
   "outputs": [],
   "source": []
  }
 ],
 "metadata": {
  "kernelspec": {
   "display_name": "Python 3",
   "language": "python",
   "name": "python3"
  },
  "language_info": {
   "codemirror_mode": {
    "name": "ipython",
    "version": 3
   },
   "file_extension": ".py",
   "mimetype": "text/x-python",
   "name": "python",
   "nbconvert_exporter": "python",
   "pygments_lexer": "ipython3",
   "version": "3.8.8"
  }
 },
 "nbformat": 4,
 "nbformat_minor": 5
}
