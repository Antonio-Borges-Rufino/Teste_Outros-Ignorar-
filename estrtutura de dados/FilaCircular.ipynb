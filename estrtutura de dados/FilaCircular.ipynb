{
  "nbformat": 4,
  "nbformat_minor": 0,
  "metadata": {
    "colab": {
      "name": "FilaCircular.ipynb",
      "provenance": []
    },
    "kernelspec": {
      "name": "python3",
      "display_name": "Python 3"
    },
    "language_info": {
      "name": "python"
    }
  },
  "cells": [
    {
      "cell_type": "code",
      "execution_count": null,
      "metadata": {
        "id": "eiB39704GIiH"
      },
      "outputs": [],
      "source": [
        "class inicializarFila:\n",
        "  def __init__(self,capacidade):\n",
        "    self.inicio = None\n",
        "    self.fim = None\n",
        "    self.capacidade = capacidade\n",
        "    self.contador = 0\n",
        "  \n",
        "  def inserir(self,elemento):\n",
        "    if self.contador < self.capacidade:\n",
        "      if self.inicio is None:\n",
        "        self.inicio = elemento\n",
        "        self.contador = self.contador+1\n",
        "        self.fim = inicializarFila(self.capacidade)\n",
        "        self.fim.contador = self.contador\n",
        "      else:\n",
        "        self.fim.inserir(elemento=elemento)\n",
        "    else:\n",
        "      print('Fila Cheia, Remova 1 Elemento')\n",
        "  \n",
        "  def remover(self):\n",
        "    if self.inicio is not None:\n",
        "      print('Usuario {} autorizado a comprar'.format(self.inicio))\n",
        "      self.inicio = self.fim.inicio\n",
        "      self.contador = self.fim.contador\n",
        "      self.fim = self.fim.fim\n",
        "      self.attcont()\n",
        "    else:\n",
        "      print('Não Há Elementos na Fila')\n",
        "\n",
        "  def attcont(self):\n",
        "      self.contador = self.contador - 1\n",
        "      if self.fim is not None:\n",
        "        self.fim.attcont()"
      ]
    },
    {
      "cell_type": "code",
      "source": [
        "fila = inicializarFila(4)\n",
        "fila.inserir(2342)\n",
        "fila.inserir(3511)\n",
        "fila.inserir(5234)\n",
        "fila.remover()\n",
        "fila.remover()\n",
        "fila.inserir(3692)\n",
        "fila.inserir(4217)\n",
        "fila.remover()\n",
        "fila.remover()\n",
        "fila.inserir(6234)\n",
        "fila.remover()\n",
        "fila.remover()"
      ],
      "metadata": {
        "colab": {
          "base_uri": "https://localhost:8080/"
        },
        "id": "4DHcqfH0Ynpm",
        "outputId": "4f0bbab7-5581-40d3-f2d8-76da944050ea"
      },
      "execution_count": null,
      "outputs": [
        {
          "output_type": "stream",
          "name": "stdout",
          "text": [
            "Usuario 2342 autorizado a comprar\n",
            "Usuario 3511 autorizado a comprar\n",
            "Usuario 5234 autorizado a comprar\n",
            "Usuario 3692 autorizado a comprar\n",
            "Usuario 4217 autorizado a comprar\n",
            "Usuario 6234 autorizado a comprar\n"
          ]
        }
      ]
    }
  ]
}