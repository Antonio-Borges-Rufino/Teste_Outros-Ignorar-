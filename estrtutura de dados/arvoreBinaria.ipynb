{
  "nbformat": 4,
  "nbformat_minor": 0,
  "metadata": {
    "colab": {
      "name": "arvoreBinaria.ipynb",
      "provenance": []
    },
    "kernelspec": {
      "name": "python3",
      "display_name": "Python 3"
    },
    "language_info": {
      "name": "python"
    }
  },
  "cells": [
    {
      "cell_type": "code",
      "execution_count": null,
      "metadata": {
        "id": "ogVabc_3igyH"
      },
      "outputs": [],
      "source": [
        "class arvoreB:\n",
        "  def __init__(self,key):\n",
        "    self.key = key\n",
        "    self.dir = None\n",
        "    self.esq = None\n",
        "  \n",
        "  def inserir(self,key):\n",
        "    if key >= self.key:\n",
        "      if self.dir is None:\n",
        "        self.dir = arvoreB(key=key)\n",
        "      else:\n",
        "        self.dir.inserir(key=key)\n",
        "    else:\n",
        "      if self.esq is None:\n",
        "        self.esq = arvoreB(key=key)\n",
        "      else:\n",
        "        self.esq.inserir(key=key)\n",
        "  \n",
        "  def mostrar(self):\n",
        "    if (self.esq.key is None)and(self.dir.key is None):\n",
        "      print(None,None)\n",
        "    else:\n",
        "      if self.esq.key is None:\n",
        "        print(None,self.dir.key)\n",
        "      elif self.dir.key is None:\n",
        "        print(self.esq.key,None)\n",
        "      else:\n",
        "        print(self.esq.key,self.dir.key)\n",
        "    if self.esq.esq is None:\n",
        "      esq = None\n",
        "    else:\n",
        "      esq = self.esq.mostrar()\n",
        "    if self.esq.dir is None:\n",
        "      dir = None\n",
        "    else:\n",
        "      dir = self.esq.mostrar()\n",
        "    print(esq,dir)"
      ]
    },
    {
      "cell_type": "code",
      "source": [
        "arvore = arvoreB(3)"
      ],
      "metadata": {
        "id": "dfwsKak2j38Y"
      },
      "execution_count": null,
      "outputs": []
    },
    {
      "cell_type": "code",
      "source": [
        "arvore.inserir(2)\n",
        "arvore.inserir(4)\n",
        "arvore.inserir(1)\n",
        "arvore.inserir(5)"
      ],
      "metadata": {
        "id": "Qm0lUceaj7en"
      },
      "execution_count": null,
      "outputs": []
    },
    {
      "cell_type": "code",
      "source": [
        "arvore.mostrar()"
      ],
      "metadata": {
        "id": "Vk0oU_uhmSGs"
      },
      "execution_count": null,
      "outputs": []
    }
  ]
}