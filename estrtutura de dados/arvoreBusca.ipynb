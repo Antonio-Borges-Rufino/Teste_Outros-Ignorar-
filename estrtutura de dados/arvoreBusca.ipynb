{
  "nbformat": 4,
  "nbformat_minor": 0,
  "metadata": {
    "colab": {
      "name": "arvoreBusca.ipynb",
      "provenance": []
    },
    "kernelspec": {
      "name": "python3",
      "display_name": "Python 3"
    },
    "language_info": {
      "name": "python"
    }
  },
  "cells": [
    {
      "cell_type": "code",
      "source": [
        "class BSTNode:\n",
        "\n",
        "    def __init__(self, key, value=None, left=None, right=None):\n",
        "        self.key = key\n",
        "        self.value = value\n",
        "        self.left = left\n",
        "        self.right = right\n",
        "\n",
        "    def add(self, key):\n",
        "        side = 'left' if key < self.key else 'right'\n",
        "        node = getattr(self, side)\n",
        "        if node is None:\n",
        "            setattr(self, side, BSTNode(key))\n",
        "        else:\n",
        "            node.add(key)\n",
        "    \n",
        "    def remove(self, key):\n",
        "        if key < self.key:\n",
        "            self.left = self.left.remove(key)\n",
        "        elif key > self.key:\n",
        "            self.right = self.right.remove(key)\n",
        "        else:\n",
        "            if self.right is None:\n",
        "                return self.left\n",
        "            if self.left is None:\n",
        "                return self.right\n",
        "            t = self.right._min()\n",
        "            self.key, self.value = t.key, t.value\n",
        "            self.right._deleteMin()\n",
        "        return self\n",
        "    \n",
        "    def _min(self):\n",
        "        if self.left is None:\n",
        "            return self\n",
        "        else:\n",
        "            return self.left._min()\n",
        "    \n",
        "    def _deleteMin(self):\n",
        "        if self.left is None:  # encontrou o min, daí pode rearranjar\n",
        "            return self.right\n",
        "        self.left = self.left._deleteMin()\n",
        "        return self\n",
        "\n",
        "    def traverse(self, visit):\n",
        "        visit(self.key)\n",
        "        if self.left is not None:\n",
        "            self.left.traverse(visit)\n",
        "        if self.right is not None:\n",
        "            self.right.traverse(visit)\n",
        "\n",
        "    def print(self, order='pre'):\n",
        "        self.traverse(print)"
      ],
      "metadata": {
        "id": "2JE7yKcU9FOd"
      },
      "execution_count": null,
      "outputs": []
    },
    {
      "cell_type": "code",
      "source": [
        "tree = BSTNode(1)\n",
        "tree.add(2)\n",
        "tree.add(3)\n",
        "tree.add(4)\n",
        "tree.add(5)\n",
        "tree.print()\n",
        "tree.remove(4)\n",
        "print('///')\n",
        "tree.print()"
      ],
      "metadata": {
        "colab": {
          "base_uri": "https://localhost:8080/"
        },
        "id": "S_awaZA6DVmF",
        "outputId": "e507832e-e39f-4d37-b730-0d6c246d9b00"
      },
      "execution_count": null,
      "outputs": [
        {
          "output_type": "stream",
          "name": "stdout",
          "text": [
            "1\n",
            "2\n",
            "3\n",
            "4\n",
            "5\n",
            "///\n",
            "1\n",
            "2\n",
            "3\n",
            "5\n"
          ]
        }
      ]
    }
  ]
}