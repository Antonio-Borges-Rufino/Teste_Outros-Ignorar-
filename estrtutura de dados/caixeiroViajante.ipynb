{
  "nbformat": 4,
  "nbformat_minor": 0,
  "metadata": {
    "colab": {
      "name": "caixeiroViajante.ipynb",
      "provenance": [],
      "collapsed_sections": []
    },
    "kernelspec": {
      "name": "python3",
      "display_name": "Python 3"
    },
    "language_info": {
      "name": "python"
    }
  },
  "cells": [
    {
      "cell_type": "markdown",
      "source": [
        "![imagem_2022-01-20_173855.png](data:image/png;base64,iVBORw0KGgoAAAANSUhEUgAAAkMAAADYCAIAAABnZXBlAAAgAElEQVR4nO2dv44aSdfGi097FZY1QjTXsBGzgYNpLmADJpvIEsQWkxCSgBwPkiOigWAvYCBw4EG+CkAj78q30V9w1vUeV1djTFX1Oe19fhHTHjeP69+pOlWup1UUhQEAAAAay/9JCwAAAACCQCQDAADQbBDJAAAANBtEMgAAAM3mN+fnVqslogMAAAA4h/JBRTeSeX9JCa1WS6c2tcKMYm1qhRnF2tQKM4q1qRVmFGtTK8xULLeQXQQAANBsEMkAAAA0G0QyAAAAzQaRDAAAQLP5j0ay9XrdarVGo5G0kO+Yz+etb+x2O2k538G1rddraTkuu92u1Wr1+31pId/R7XZbjOPxKK3of/AKnc/n0nL+hTomp9vtSov6F2pjhLaWxstNQ20ej8dy3XGR8ceQ4nvKT/QQS1uWZcNvRHlhFGGHwyHLMvo8m81i/WPVaovb0rIsy/M8z/Mob4vY0larVZRXEbGEzWYzW6GxSDF05Hk+m80CXxKrCxhjnp+f6ccsy8KFFZG0PT8/W22OThFhw+GQWj5vY1wk/xxL239xTbbf7x8eHqRVuHQ6nf1+T5///PNPY4yeKbxmbcaY+Xx+c3Pz5s0baSGN4f7+frvdSqv4AbvdbrPZUHtTwqtXr+iDnpWiMebz5895nvd6PWNMp9MZDoePj4+Ceh4eHuxwYXl8fBwOhySy1+vleR5X5H8xkunn69evxphOpyMtxMP79+/zPNejbbfb3d/fK5yaELe3t3pyPgQlrm9ubmyqR1qRn+l0OhwOlbQ0ihBZlhljRqPRfr8fj8fSov7l6upqs9nYyWW73VY10SSOx2O73bY/djqduCI9/zMaiHN3d0dJPD2s1+vb21tjTJZl5QmXIHd3d6vVSlqFH1tQu93u+vr66upqMBjISrJst1sKEv1+v9/vPz09SSv6DlqQUa5MCQ8PD+12mwK/KmGDweDTp08UZYk8zwX1nEP0cIs1mTpGo1G329Uz4yMGgwHlo5fLpZ5DH/P5vNvt6gkPVVA65dOnT9JC/odd69zd3amamhCPj4+qlv7m29USxbdtYz2LbGPMw8MD36ZSVW5eXl5e4r4QazJdjEaj7XarcGSx0KD85csXaSHGGPPx48fNZsPzY61W63A46OzJPLsiCG32HI9HnaVkjDkej4vFgs4FKGE+n+d5TvPLTqezWq0mk4m26SaxWCwUZik6nQ6PXsfjMe7GNtZkiuj3+8fjUWEYW6/X9n8sHI/HzWZzdXUlK4l4enqyU9HZbEZnF5UM0Ov12k7b1+u1nsMLnU4ny7L379/Tj5PJ5O3bt7KSHGgvlk4HKMHZi1oul6oOfVj6/X6WZQqzFH/88cdisaACTHKW55wDjkqIpY0nlI0x4Wfxowgrz0Cj/CeBFIUW5WR59JZmI1k4sbTx2jwcDlFeGP6S4ttZ7YjNrIitLeL/XoglbDgc2kKL9X8Yog8dGoTxguKS+N5/yP8T8GpzLzxWfgWyTm1qhRnF2tQKM4q1qRVmFGtTK8wo1qZWmKnQhuwiAACAZoNIBgAAoNkgkgEAAGg2nn0yKSkAAADADynvk3n+P1mzNvo0oFaYUaxNrTCjWJtaYUaxNrXCjGJtaoWZiuUWsosAAACaDSIZAACAZoNIBgAAoNkgkgEAAGg2aSMZ2V3bK/tAGW6p7hRUv99vtVrkJiXOfD5P6Fz+87QY9ISXpKA/PZfhXJfe7XbtH4k4SHFttnysKsGLBKsKjZeYlLZySzPf+qZgVZrqQuNdtf4L+4/HY6sEFVHaQjvnSqvLyLJs+I0oL4yoLS4hwrIsoxv5vO7gJtjIPEqhkY0FfabL08LfGVho1nt+OBzSdYtUXOHCwrWVK7T4XrOIMNLjXP84m82sKuqwItq8hRZLW/SWRpab9HA2m4VcdRi90OgWfPoFusHysgEkVleyt6GuVitbg3meh1yR6tWW/AZhRLLzybLMuThVSSTjUPcIvw83sA/bgrJdRUkk41idq9Uqyu3GIcLyPD99LW/gFczpekERpi16S3MUhnTSFC2NR1bxSGZ8l0E7Ii94p+fhOb8UAiLZmfDJFH+ztkhmZ6aBhAijsnp+fqYPfGZqCYm1EbsxVR/N4q02keWFMYZrKLerwK4avdCchxffjh+9pTlLCm/orUGb8x6++rcRV6SlWaoWrIH5CUSyVIQI4/4a5cFXTySz3n0abCMKFre8gwj5Slz88iiFxkM+/xziWhL4j+LLC+dV3txjbdoszjwpz3Oq5egD3/l4W5r5HtlIVp5cUrlJpT35S3jJWLeXwIiASJaKiBMrp6z0RDILdexw+6jARJntunYGygnZIQjURjgrbKcX5Hl+2dAcGMlsgZRTxOF1Gr3QOCFTk6QtrZDOLjqFVt4zk8ounqhNmkhdPG1CJEtFLGHlzQCFkawIGIg5Fwtz9sO8+3aBm3mBhcYzUYRTsyKRjCfBnPIJXPSEayt8hcYJqdCkLe3EeJ1UG/92LslpWhcPv+HjxukUYvTwj0gWgYuF8TOBhS+vrSSS8XNHsSx9QwrNmyjL89x26RSHo87Ee7azfDC15kG5+P7Enc1HRTRojl5oeZ7bxh9yYjZ6S3N+QSrz6S0TXstFwBwlSoh1hNmSPD1ruUxb2lP4PJUcHs9+vUhWfO8UbovIObwgm74geG2KD3x2046gLsEfBp5JCZxlc+JavwfWpq1EHtI0tDRvoTm9IOTlF/9db0vjhRa4lk3R0sTPFhW+STk/EGAS7Mh6XF2KUhkpQa02tcKMYm1qhRnF2tQKM4q1qRVmFGtTK8xUaMNtVQAAAJoNIhkAAIBmA89oAAAATaKcXYRndATUCjOKtakVZhRrUyvMKNamVphRrE2tMAPPaAAAAL8kiGQAAACaDSIZAACAZoNIBgAAoNkkjGTculTc+Lgp1sx6qPJ+VWLNTPIcm2NVTc5xGR6NRlabiOk2r9ByrZE8DW7getzJT9gfazDarqpQWc9o831TdyqR20ZH7qHnXARyAQpdhtNZM8cqtBTE0hbd0DLkJXS5nOPXxy9zS3Gx288qJGcN+pEbNUndu2jY1UrO7a7Pz89ZloX4bAVqs2gbNzi2Cygx2vZWqAbP6Kq7dvM8j3IHr1db8huECx0uw5zo1sz/hUhmvl23qCGSEU4kc24BD3HzC9RGgYEXFL8LX8O17k7RkVoNkYyjbdwwvhtHpYy2qypUg2e0N5JRA7v4nRyvtjr2yb5+/WqM6XQ6NXzXD1mv14fDYTAYSAtpEvP5PMsyXmhOskUD+/3+6urK/tjtdl9eXkSUXF9fL5dL/mQ8Hm82G0prU4ituTu8evXKGGPzPK9fv7Y3uo5Go5ubm16vV6eec3j//n2e50rGjXIXIF5eXkQUVlUoKaRkY7fbHQ6HIjW7WCyctOfnz58NGzfi70qcE+4CCfS6toRoS2rNnKLQYhFFm0lgzRwurLywcAxqRS4Ct99bXrzSJeVSdjPOte70Ki5SyZpMmzu5fUm5cGSNtr0VSijxjKb3UHfgCfYizBLPqy35mmw0GnW73fF4nPqLTtPpdOy/Ocsy59AHOAHN+7yr2Hfv3hljxM9WeBFZLO52u8Vi8fDw4Dxfr9etVmu73RZF8ebNG5G17GAwsF2AJgHGmLu7u/KAKIvVuVwuxQ99EFVd4Pr6erVaSa0avRVKB7Imk0lRFNPpVPzo02w222639JmfjhkOh3FTJmkj2Wg02m63T09PSb/lZ5nNZnpyYvqZTCbcW6sMJTrE6Xa7X758sT/u9/s//vijZg08hXJ9fU2f1+v1ZDKxQ954PM7z/K+//qpZG2e5XN7c3ByPx8PhcHt7S4Lps9Rh1DK9Xi/Pc16nUni7QKvVms1mSvYpqEKNMdPpdDabUUZxMBgMh8PHx0dZbRTArq6u9vt9wq85Z+F2GYG+vWUu1pbamjlioUUnUFvZ+zWWNXN4oTnZRX7UTdaTnuCJO15QITbNUYRRQZVzYhqyi6rcya0k5w1KjLYtvELFPaMPh4O3qZc/x/V0TRXJyq7Hsp7RSa2Zf+FIVo76sayZY9WmqXBAltq9sDj7ZFywyKFKLsBbOBoiWaHMnbzwdQGFRtu8QsU9o2mXrlyDfOiI3tLgGR0BtcKMYm1qhRnF2tQKM4q1qRVmFGtTK8zAMxoAAMAvCSIZAACAZoNIBgAAoNl49smkpAAAAAA/pLxP9ts5v6QEtZuQaoUZxdrUCjOKtakVZhRrUyvMKNamVpipWG4huwgAAKDZIJIBAABoNohkAAAAmg0iGQAAgGaTMJLpcTF30COsyl6dLrRO6OXzq0DlY3+0nvR6juCKW9FzeKPiz3m5SV2uzdu80+BHo5FgV/UK09DS+OjBS6zf78vWJtVXeYzlz+Pf0H/OlVYXoNbFXK2wgvnPxvJlLhTfCRkubDgc0g1v9KMST3qO48kUTogwbhNIRVd+LqXthNEXeQ2H3AkZXZiSlmbYBZ62EvkVzFIXfHutAVNf8F2H06Y2F3OLNmHm28WaiGQ/hAa4qoKS8qQvvye8dTkvvPjv8mBgy2e1WsUyrAjRlud5VaCiWpaKZCeEEVItzWn5ji/EiYephRUVkSzPcz5hil6hdUQyPgEMIbo2VcL4/N25pF/8WvcUBAozxjw/P1dFMpPgsu2fhbTxi8nD3xnyEpoIPz8/0wduAmIVCi4vuAx7tbwdE6UiWZUw/gsiLc1xlvF2hJDVdmAksyVmB1jHbsYJbOHaEkYynS7mhVZhVV2CmkXIawNEJSTKpM/pwNZOIjBdFjGSRfFys4QvZKl8bEvjk7lA263AVsrXi/QqXrmCkawsrNDR0spm3/TcBhINCXYug88JQoqu7khmoRYp7phXRo+wE4njFK50GrhYGB/gqtZkGsL/OfmfnyVEGA+lWZbRZycRFH2mfP7ftS3c5vx59BKMZGVh/Bc0tLSionVVWaqeQyxhVVvF0Su0jlP4elzMHfQI89qrc169elWbGOV8/vzZfDuGd319TZ+dg23v3r0zxkgdwyOoymQ1WHa73WazeXp6oh+32+1mszkej+12W4PCLMv++ecf/uTvv/8+HA63t7dU0fS5/kO8ZWEOGlqaMWa5XN7c3DgPx+OxMebr168Siv5Ht9t1nux2u8Ph8Pvvv8f8mnPC3QUodDEnFAorL8jyPI+VlYpVodGJIoyve/I8t9PnwFOpsQqNH2yLckTwYmFOU3cyeFRuJw4QJtVWfL+J4t29llqTeYVpa2l87TUcDm1B8Q3R2oQdDocf5qtNgsxnwuyiNhdzizZh5YO8PAMeuLny34lkzjEZcW3Ft55MhHRdS4gwZ1vFDnA8GXBxEjtQW8F6ZT3JqBBhSlqatzZ5k5Oal9hNxPLkKUpf8GrzuLo4T/SgVptaYUaxNrXCjGJtaoUZxdrUCjOKtakVZiq04bYqAAAAzQaRDAAAQLOBZzQAAIAmUc4uwjM6AmqFGcXa1AozirWpFWYUa1MrzCjWplaYgWc0AACAXxJEMgAAAM0GkQwAAECzQSQDAADQbJJHMnJc1eB6XDbMVWLNTN6vzu1k3Gs4vr/qT+J442owzNVMuaUZBU6+xtfSlHSBKpdh863cBLtAudB4VRIibuC87hwBsi7b3tp0HrZardFoFPNbz7kIJAS6dVvcBsxrmBvL0DLkJXSxm3OVNb8wLeTytEBtVmEKa+boLS0i0Vsav74vxEg6ektT4unq9Wa0d0IauWu0vIXGCXTrDWxp9L28iOxVhyH3ewUK89Zm+f1x/T3Srsnm8/nNzc2bN2+SfsuZXF1d0Yd2uy2rhPPw8LDf752Hy+VyNpt1Oh1jzGAwyLLsr7/+klBndrvddrudTCb2yXg8pju2jTFv374VvwVcIeWWtt1up9MpfR6Px4fDof5FhrelaabX6xVF0ev1BDX8sNDev3+f5zl11ZrZ7/f0vb1ez97Z3+l0iqIYDAb16zmf+XyeZVncmk0YyXa73f39/cPDQ7qvOJ/pdHp7e7vb7dbrtaNKPOdTZr/f29HQGNPtdl9eXkSUXF9fL5fLqj+9v7+/u7urU49+vC2t2+3yYvyhV0jNaOgCi8VCNsN5AcfjcbFY8HmeFIfD4fXr19Iq/sfp2ry/v7cTu2ics3C7DLu8nc1m4tnFwmeYywlxzAsvNCd94WQGzlmtp9CW1Jo5YkuLToqW5vS7yzI/0VsaR4lppCndlW5EL+kvqgvNa0DzU0QptOg+OEXK2gzJrtt3lh+mWpPN5/Nut6tnkdvv96fTKf2bJ5NJeaZAjnniZyu8iMyUd7vdYrHwLqmfnp6oJF9eXnDow6GqpTldUdUMmlDSBWaz2Xa7ldVwJovFQjwnsV6vF4uF9VDVRrk2P3z48Pbt2+hf5LmtKgofP37cbDZ8mGu1WofDQSShTIa5xbd58Xa7zbLseDyWxSixZu52u9zJer/f199hrDWzfdJqtVarFZ+dvHv3brFYeEvyv8k5LY2Ocslu/5xAQxcouwwrhDZ7ZCfr6/X69vbW8STTBq/N9Xp9OBzsRntMzlm4BSKeXawyzI1lzRxeaE76ghvRlh2la9ZWpLFmTtHSYhG9pTm/cHFWNnpL0+BO/kOXYaMyu1jWeQEh2k73Pqns4unaTOec/p+IZEWFYW4sa+YQYbQ5YeFW647a+rVZUlgz/5KRrKhoabw2pTYXvS1NiTu512XYaWkXx7MU3TNkDhdLm1M4pK28Pqt/R9Zbm0Xwfyg6rQ2e0RFQK8wo1qZWmFGsTa0wo1ibWmFGsTa1wgw8owEAAPySIJIBAABoNohkAAAAmo1nn0xKCgAAAPBDyvtknv9P1qyNPg2oFWYUa1MrzCjWplaYUaxNrTCjWJtaYaZiuYXsIgAAgGaDSAYAAKDZIJIBAABoNohkAAAAmk3CSNbtdrnXtaz71wmncK5TUCQJUCjMMp/PZe3eObxp2Yfcll5DialCcxdoijbuoUGNTdY6wKttNBrZh+LOBgTpTOs8d86VVpcReIVlmRBtXqfwIuWNlj8FOQzx90QRVsSr0HBXIYfA2rSFY82ZyKieHgaqjdgL4qK2C2jWFiKM9DhXBVqRJuxq4xTaYl0+HrcLZFkWeD81x6vtvxLJOFbYarUSv9q4KIrn5+csy/gtvbGEFVEd88Kv/nReePHf5U3L3k/ttLeQUeaXjGSc6F2gUKwtRFie5ycGMdlI5tWW5zmP/RcPwhG7wGw2Gw6Hse6RL2p22iRub2+VJKM41in806dP+/3ersRHo5GInuvr6+VyyZ8oEWahHMXNzU05oSfCdDq9vb3d7Xbr9fr+/p7sQLvdLi/GLMv++ecfOY2q0dYF1GrbbDaTyURbso7waut0Oh8+fLC/4zgd1s9ut7M9NC3nhLtAaLUh6+Vj4U7h/LPXGKkGYcPhkNzB+ZoslrBAbRYnjxElURAozFp+OOswjmyhpUBtF9CsLUSYOek2Z0TXZFXasizjveCy9GysLmAXhc1ekxG9Xi/P80+fPtXwXacpO4VbM99Op5Pnec3zl91ut1gsvBMWWWFerKS7u7v9fi+opN/vT6dTasGTycTuJDvNnab2gKOtC3B0arOt6M8//zTGqDpJ5NW23+95ILm6upKSN5/Pu91uPbbantuqEtFut2v7Li9lp/B2u/3x40dBSZ8/fzbfX77SarVWq5W4MIdXr14ZY47Hox1ZBNntdpvNpvi2Attut1mWOdrW67UxptfryUjUisIuYNGpTXOO+ofadrvd4XD4/fffa5Pk8PHjx81m44xvh8MhyTByzsLtAlarlV3VJrUKPROvxys/feQ9CFSDMEdMXGGxtBVFkWUZZUEL6RNlTqKpXLP0C1LWzElR2wU0awsRxg/E8mynfbNgdvG0Nnq57bN1CvOSOruYcJ+Mx8sox95CtDnx23ExJ2SPuvFIFktYLG3F967qF3cPTogwmhs5rYsb1QcG2l8ykiXtApq1Bdam3XayquwerUJtvMRC+mn0LpA6knlcXYpSw1KCWm1qhRnF2tQKM4q1qRVmFGtTK8wo1qZWmKnQhtuqAAAANBtEMgAAAM0GntEAAACaRDm7CM/oCKgVZhRrUyvMKNamVphRrE2tMKNYm1phBp7RAAAAfkkQyQAAADQbRDIAAADNBpEMAABAs0kbyVS5DHv9Va0jbbfbFVF1PB69jrQE2b/SLYIitBj8ubiTL5UbrzVev97CrAfN9sdq8fYCDRWqVlhZiZWhwTndK2y9XtuH8ce0cy4CuQxVLsNV/qr2WiN+r2Cdwgy7Wsm5z5AcOAMNS0O0ea2ZyzrrF0Y3zq1WK97AnOu+QggsNJ32x6mJ3gtiVahaYYHavGPaarWy41iI+1J0YeVbNONe8ZX23kU9LsOnvV+LsGvBLhbmdAlnaCYjadlIVrZm1uDkS+iMZBxV9sepid4LxCNZamEh2oozxjSng/wU0YVZI0b7O3FXDqmyi9pchn/o/fry8lK/ZQm5pdiF9uvXr+1FvaPR6ObmRtaXxGvNrMHJ9wTieRWOKvtjtZzoBUa0QtUKI344pk0mk7dv3yoRdjweubFXp9OJXG7nhLsL0OYybE76gAj6WTjXutOr+KRPcE1W+KyZNTj5EiemnHQv/sVvjtILtNkfpyZ6L+CEVKhaYYHaqsY0awohdRe+V1ie5zy7Hj0HlvbEhx6XYXPS+/X6+nq1WonYSA4GA1sZNDQbY+7u7spdqH6qrJk1OPme5t27d+ZbYkAEnfbHavH2Ao5UhaoVRnjHtIeHBxLcbrellow/NNp+eXmJ+42pIpl1GU70/p/lhL9qq9WazWb1WHSfZrlc3tzcHI/Hw+Fwe3tLa3P6XP/5KLJmtmPxdrvdbDaUItBTraehRlg/XvvjphSaONQLvH8kVaGENmE/9Iwej8fGmK9fv9al6F+8wjqdDo9ex+PxzZs3Mb/1nIXbZehxGS4q/FVD8jyxhFloGV7OcEplF6usmTU4+RJOdjHP81jZ7BBtau2PUxO9F8SqULXCArV5x7ThcGj7LOV1lBhtczEpdnMSRjJVLsOFz1+VuwwTlx0MDRHGv91btYL7ZF5r5kKBk69TcVShXG3gpmysCjXK7I+TEr0XxKpQtcICtRW+MY2PulVDioiwIrE7OTyjI6BWmFGsTa0wo1ibWmFGsTa1woxibWqFGXhGAwAA+CVBJAMAANBsEMkAAAA0G88+mZQUAAAA4IeU98l+O+eXlKB2E1KtMKNYm1phRrE2tcKMYm1qhRnF2tQKMxXLLWQXAQAANBtEMgAAAM0GkQwAAECzQSQDAADQbFJFMm50TXCj+vqp8qTnhvSC8oj5fJ7QHfwivC7mxGg0ktJJX+0tK7J+F7wFv6qlme8bW/0XCh+Px3JVcrXlKgYnWppsbRJcm31IXUBWmHfc4IUZv4eec6VVOI45zWWEaPN60s9mM25tHtfD9Gc5HA7OHX3h7ywSuJjbP8qyLOROyBBhjv+slUQ1a8JudQvU5m1phYJLtI0xvLXTZyX2x0mJ3tKKSLVZBLc0q4Ff1GsFS1277B03+JhGF1de/H7v360jkgXefGyJpc07/kZ3fguBrgENL7Eimb16lmUUzPREMv5mwUjGseWzWq3CnWaLAGFOxLI2Aohkp/G2tFi1WQRHMm5VUZZ0woo2qTDvuOEsZqIPHXVEsjzPNdyFz99THulMgL1L9ELjFsOBBM59uLWgLTTbvQUjmVVVLig9kcwqIZ8Lq7n+1b/j0WMDmPUEJ0ImT79qJCu3tFi1GaiNVjbPz89V7i0hC8fo4wa3einCsnQykSzWgqxI4ElfFEWe51TcIbmCWIVm3SIunkmVCWyRVf5k9FAqkjnvcYYSJZGMtzT+OcQVL3zg45QFR8/5aCB6S4tVm+Ha7ESEC7DRVyrEeseNglm9BA65Xm3Jzy4+Pj7meW6t32Upe9I/PT1RQby8vIgf+rBW68vlUsmhj7KL+d3dXXlMFGQ2m223W2kVLuWWZrtAp9PJ8/zLly81S7Ktq/iWd3J+4d27d8YYwcMyyuEtTbw2jTH9fn86nVKFTiYTe7Di4eGBHrbbbalDH+Vxwxiz3+9tC8yy7OrqKuI3po1kx+NxsVhMJpOk33ImZU96DnVjJRb1vV5Pqntwyi7mf//99+FwuL29pQNI9Fn8wJvssdgy5ZbWbreVNC1iuVze3Nx4/+jVq1c1i2kQ1NI01OZut9tsNnaqtN1uN5uNo2o8Hhtjvn79WrO28rjhsNvtDofD77//HvNbz1m4XUzE/Z4igSd9nuc2DRVyXDBKofFDR4EpC06INq+LOUcku3g4HE7ndoxodtHbkPg5xpB8e5SWRgpJQJ7nVknIUbdY2lIQvaXFqs1AbcaXxBsOh/Zh1f5ZUmHFGeOGSZD5TBjJIg7HRIg2J37zg1tVQb0eYRye8IlVboHavC7m/E9Fdgjs7qYpnWLgXBzPore0IpL1eyxhdnTjieLASeevF8mKipZWRKrNQG1Okp/q1Mk51R9iifK4wUss8ACgV5vH1aUo9UYlqNWmVphRrE2tMKNYm1phRrE2tcKMYm1qhZkKbbitCgAAQLNBJAMAANBsEMkAAAA0G88+mZQUAAAA4IeU98l+O+eXlKB2E1KtMKNYm1phRrE2tcKMYm1qhRnF2tQKMxXLLWQXAQAANBtEMgAAAM0GkQwAAECzQSQDAADQbBJGMq8BtiAKncK5Ib0jw3qry16P661E7vsuJYyKjhcOr0piPp+LaKtq+aRQ6rJ53tisKi5VsJ+ORiMug7tA8MYmfm+vNrxjmvm+L9Tc3k6MafP5PGHfPOdKqwug67/0WL97ncL5TZez2UzEX5VjjV9nsxk3qpfyGapyMY+iLUQYVdwJS9xA0+3ohWbvnDVy1/QZ5ghlu4MSz+gqE3DxcSM10ce0IpKzcfQxjW6JpIdOdIiiLW120TpEaPDdsHY47XabPmy32+l0Sp/H4/HhcJA1ZyyErQYAAApiSURBVLq/v7+7uyMx5MhgjHn79q3UVHQ6na5WK8dbToO2h4eH/X5/4hfev38v5YrnLbRer1cURa/Xq18PQQ3bVtx0Ov3w4YOUmDNZr9fdbtdqBmXKY9put9vv9w8PD3KivsOOaYYZSSfpmOeEu8uwFrSO7/XFhGjzOoU7NhYX3+wepdCqFoVV09UzCdFmfC7mzi8IekZXrckCZ3xFykKTEuYYU9ilmGMgEOLtHlJo1ubYsCv5adywz0VW/6mJPqbRMFIuzDqFWZwxLcsy0pMiz5TWn8ze5B/SQyyB2rxO4U5cF4xk3m8PdD8q0riYW6uLkMxPukgW7oqXotDsnyoxASm/yk4969fmvIeGOV6PIRZRv2okK3xjmhM8Lu6kicY0GjoCFzZebQmzi7QJWRTF4XDIskxq+52ocgp3CsiadtcMbXEPBgPn+fX1dTlVVSdeF/OnpycqsZeXF8FDH1UsFgub0BDBW2jiDAYD29RpEuD8AtmmyybYjTGz2Wy73dJn2/I7nY4GF3VVVI1pfCtnOBy+vLyIyHPGNDpbNJlMiqKYTqfRj6KkimTz+TzPc8pxdzqd1WolmJc/xymcyl1qJ2MymXAnOqLVas1ms3J4q40fupjT2KdkpCbm83mWZZoLTQPL5fLm5sb7R3ZvWxAai9vttqqmpYqqMe3q6ur0FnJtOGPadDqdzWY0wA4Gg+Fw+Pj4GPP7zlm4XYBjvB1orE5crK3KKdz5hYtzZYGFxk/1cD1RbKNDtHldzPM8t/mxcknWI4zwZhejlFv0QuNvlsouWqjW7FZxrE4a0j29WUR+1DMkzR5rTEtB9DGNPw/ZMI4+pjmnJaKPt8lPfBBKTnxYqEtwhYJbPuX9Ty6MiHti9ae0OTXonBG4+M2B0YJrcBzWL35tFG3FGYUmMr6U23/xfb8Q3Fy0O6/m+4kIn9RLdYGkRB/TnOdSB7K8ZzqinN+p0uZxdXGe6EGtNrXCjGJtaoUZxdrUCjOKtakVZhRrUyvMVGjDbVUAAACaDSIZAACAZgPPaAAAAE2inF2EZ3QE1AozirWpFWYUa1MrzCjWplaYUaxNrTADz2gAAAC/JIhkAAAAmg0iGQAAgGaDSAYAAKDZJIxk6/Va3L3Xwr1xuRhuVsudamvD6+SrQdgJbeKe0VW1aaR9mQmvZ7SsO/kJYeK1SbQY9qEGbWqFacZbaI30jOZ3poX7RREh2rIso9tcuDDugCB1sZvxOfnGEpZIm7hntLc2Y/kyB2rz1pcGd/KkDuCB2rz2x0paWjphgdqSEr3QUntGp4pk1vSaCLSLJGJps46aXCQVbs2RzPGet1fixhKWQhvHqeV6hDmU/VFlI1me5+XL7hyRFyuMLowTUptF8NjHL8Mty5BqaUmFBWpLSvRCcwaQxkQy5y78wPomYmnjhWi+3WVpJO7Cr3LyjSUskTb+ckHPaPueuL7MRfBCtuwZrcGd3CvM+YUQG4EQbV7741ja1AoL1JaUFIXWVM9o58JyJZGsbLRB3VtqYnXCyTdcWCJtSjyjiwp7aPFI5vUPckpSJJKlcwAP1FZUWLpraGnphIVrS0eKQitSekYnjGQcJdlFxzWHTxm4aVP9wqwequNYwlJo49Bk5bIXRq9N/mbZSGa/vSozfLHCpMJCajNQG1+z2pl7LG1qhQVqS0r0QuMb2HbRFlFbTZHs4kmo85KQv17ODzhJnjzPL5thxSq0PM8p3scSlkIbR2RzkajK9hTSkYzXnbd8qgKwuDAlO7LRtakVFqItNdELzRnEQtY2YpEsz3Nxp02vByOfO4TYNEcpNMfJN4qwRNrEPaNPf69sJDvtGS3oTp7UATxEW5X9sXhLSy0sRFtqohdaUz2juUlulDBWBKdWOFYSfygyvnABfGYXRVgKbRo8o721GcuXOVBb4fOM1uNO7giLVZuB2rz2xxpaWlJhgdqSEr3QCnhGW9RqUyvMKNamVphRrE2tMKNYm1phRrE2tcIMPKMBAAD8kiCSAQAAaDaIZAAAAJqNZ59MSgoAAADwQ8r7ZL+d80tKULsJqVaYUaxNrTCjWJtaYUaxNrXCjGJtaoWZiuUWsosAAACaDSIZAACAZoNIBgAAoNkgkgEAAGg28SPZ8XhstVrdbpc/5L7X9TvTkyQHcqAXdzEfjUZc1Xq9tn/EtZHa+vG6mPf7fVlh3kLjqlI5rF/EbrdrtVr9fl9ayL9KCKtHtm+e1ibb0k6MG7wF8j5bM97uyStUSReog3OutDofuibScQDh15afuML8hwRqs1jbTw326lV3QnMH8RBCtHldzPlNoLPZ7OJLNVMUmkXVDeVkbBHuz1eECaPbAr0X84f3zRTaNLQ0Dh83nIsrRQrN2z250wL1gvr9g1Lj1RZ5Tfbw8LDf752Hy+VyNpt1Oh1jzGAwyLLsr7/+ivu9P8X9/f3d3Z0xZjwej8djevj27VupdU+Z9Xrd7XatNkGurq7oQ7vdpg/b7XY6ndLn8Xh8OBwEJ/JVvH//Ps9zanKyzOfzm5ubN2/eSAsx0+l0tVo5ZaKkb3q1aWtpdtwwxtic06tXr+QUebqnYc7gGtp/fZwT7n4WZ01Wdtu6bPUTRVvV5M4IOafwW9LttJ1mo/Z59Hujz8TrYu4sL5zKrUeYt9AsIVPRcG0c69Vkp/OBhAgzbIyz5ROrb6bQpqGlWZxxw/ZKI2du4O2eBTO3lMozpcarTSCSXeyxFkWb0Wevzt9DJcN9rWT9ybwu5s5kSHB8KVihWcquYBe8M0zUv9iWrySSlV2jYvXNFNoKTS2t/O0UemVbmrd7Ft+GtRA7rcZFMoGzi4JJPNqbHQwG9snT0xMVxMvLi9ShD8tsNttut/TZZgY6nU6e51++fKlfT7/fn06nVD6TycTuwzut6vXr1/Vrs/BCIxaLhc0CCTKfz7vdLm9s4tia+vPPP42vJwr2Ta82JS3NGTfW63Wr1dput0VRvHnzRurck7d70sGZyWRSFMV0OpU9xVMndUSybrfLB+L9fv/HH3/U8L1lJpMJzfjKvHv3zoj2ZILy7+12W1zJbrfbbDZPT0/043a73Ww2jirq4b1eT0Afgx+Unc/nWZZpiB8fP37cbDZ0hOz+/p4+C1ZrlmX//POP81BJ3/Rq48i2NGfcmEwmdldvPB7neV7/5mJV95xOp7PZjApqMBgMh8PHx8eatclwzsLtZ3GyizxdwI/W/CyB2spfrcFe3ZtFpKQBaZM6HFXlYu78Qv1G21WFZl97cSY2XFsVGrKL/CigTcDG6psptFmkWhrhHTfEk/9V3ZOXZBGwjRe9C0TEqy3+KXweJr3u71Jno8v7nxrs1e1GndMf+BxQ6vCC18WcV6XU5uLpQrv4tVG0edEQyQpmP88Huyh9M4U2DS2tqDg3wfuF7ImPct1FOSzWuEjmcXVxnuhBrTa1woxibWqFGcXa1AozirWpFWYUa1MrzFRow21VAAAAmg0iGQAAgGYDz2gAAABNopxd1JsMBQAAAM4B2UUAAADNBpEMAABAs0EkAwAA0GwQyQAAADQbRDIAAADN5v8BpdVt03SEhnwAAAAASUVORK5CYII=)"
      ],
      "metadata": {
        "id": "sAJOB4CO-PPq"
      }
    },
    {
      "cell_type": "markdown",
      "source": [
        "1. primeiro cria-se a classe grafo, ela vai receber as arestas\n"
      ],
      "metadata": {
        "id": "6KsE7KfUx_xI"
      }
    },
    {
      "cell_type": "code",
      "execution_count": 1,
      "metadata": {
        "id": "ClJ4EW18xwVa"
      },
      "outputs": [],
      "source": [
        "class graph:\n",
        "  def __init__(self):\n",
        "    self.vertices = list()\n",
        "\n",
        "  def setVertices(self,Object):\n",
        "    self.vertices.append(Object)\n",
        "\n",
        "  def menorCaminho(self,verticeInicial):\n",
        "    tamanho = len(self.vertices)\n",
        "    vertice = verticeInicial\n",
        "    contador1 = 0\n",
        "    caminho = list()\n",
        "    caminho.append(vertice)\n",
        "    while contador1 < tamanho-1:\n",
        "      for x in self.vertices:\n",
        "        if x.vertice == vertice:\n",
        "          dist,final = x.procurarMenor()\n",
        "          self.retira(x.vertice)\n",
        "      caminho.append(final)\n",
        "      vertice = final\n",
        "      contador1 = contador1+1\n",
        "    print(caminho)\n",
        "  \n",
        "  def retira(self,inicio):\n",
        "    vertice = 0\n",
        "    while vertice < len(self.vertices):\n",
        "      aresta = 0\n",
        "      while aresta < len(self.vertices[vertice].aresta):\n",
        "        if self.vertices[vertice].aresta[aresta].fimAresta == inicio:\n",
        "          del(self.vertices[vertice].aresta[aresta])\n",
        "        aresta = aresta + 1\n",
        "      vertice = vertice+1\n"
      ]
    },
    {
      "cell_type": "code",
      "source": [
        "class vertice:\n",
        "  def __init__(self, vertice):\n",
        "    self.vertice = vertice\n",
        "    self.aresta = list()\n",
        "  \n",
        "  def setAresta(self,Object):\n",
        "    self.aresta.append(Object)\n",
        "\n",
        "  def procurarMenor(self):\n",
        "    dist = self.aresta[0].distancia     \n",
        "    final = self.aresta[0].fimAresta \n",
        "    for x in self.aresta: \n",
        "      if x.distancia < dist:\n",
        "        dist = x.distancia\n",
        "        final = x.fimAresta\n",
        "    return dist, final\n"
      ],
      "metadata": {
        "id": "f16iY1SSyrc0"
      },
      "execution_count": 2,
      "outputs": []
    },
    {
      "cell_type": "code",
      "source": [
        "class finalAresta:\n",
        "  def __init__(self, distancia,final):\n",
        "    self.distancia = distancia\n",
        "    self.fimAresta = final\n"
      ],
      "metadata": {
        "id": "c8B-sYBF1I0l"
      },
      "execution_count": 3,
      "outputs": []
    },
    {
      "cell_type": "code",
      "source": [
        "#Vertice 1\n",
        "grafo = graph()\n",
        "vertices = vertice(1)\n",
        "vertices.setAresta(finalAresta(31,2))\n",
        "vertices.setAresta(finalAresta(3,3))\n",
        "vertices.setAresta(finalAresta(85,4))\n",
        "vertices.setAresta(finalAresta(26,5))\n",
        "vertices.setAresta(finalAresta(62,6))\n",
        "vertices.setAresta(finalAresta(23,7))\n",
        "vertices.setAresta(finalAresta(89,8))\n",
        "vertices.setAresta(finalAresta(28,9))\n",
        "vertices.setAresta(finalAresta(73,10))\n",
        "grafo.setVertices(vertices)"
      ],
      "metadata": {
        "id": "H6LiqOg89HRH"
      },
      "execution_count": 4,
      "outputs": []
    },
    {
      "cell_type": "code",
      "source": [
        "#Vertice 2\n",
        "vertices = vertice(2)\n",
        "vertices.setAresta(finalAresta(31,1))\n",
        "vertices.setAresta(finalAresta(75,3))\n",
        "vertices.setAresta(finalAresta(10,4))\n",
        "vertices.setAresta(finalAresta(48,5))\n",
        "vertices.setAresta(finalAresta(94,6))\n",
        "vertices.setAresta(finalAresta(3,7))\n",
        "vertices.setAresta(finalAresta(72,8))\n",
        "vertices.setAresta(finalAresta(98,9))\n",
        "vertices.setAresta(finalAresta(56,10))\n",
        "grafo.setVertices(vertices)"
      ],
      "metadata": {
        "id": "WxwBLjY4BjeR"
      },
      "execution_count": 5,
      "outputs": []
    },
    {
      "cell_type": "code",
      "source": [
        "#Vertice 3\n",
        "vertices = vertice(3)\n",
        "vertices.setAresta(finalAresta(3,1))\n",
        "vertices.setAresta(finalAresta(75,2))\n",
        "vertices.setAresta(finalAresta(43,4))\n",
        "vertices.setAresta(finalAresta(6,5))\n",
        "vertices.setAresta(finalAresta(86,6))\n",
        "vertices.setAresta(finalAresta(64,7))\n",
        "vertices.setAresta(finalAresta(63,8))\n",
        "vertices.setAresta(finalAresta(93,9))\n",
        "vertices.setAresta(finalAresta(59,10))\n",
        "grafo.setVertices(vertices)"
      ],
      "metadata": {
        "id": "62rCGV7ZBvya"
      },
      "execution_count": 6,
      "outputs": []
    },
    {
      "cell_type": "code",
      "source": [
        "#Vertice 4\n",
        "vertices = vertice(4)\n",
        "vertices.setAresta(finalAresta(85,1))\n",
        "vertices.setAresta(finalAresta(10,2))\n",
        "vertices.setAresta(finalAresta(43,3))\n",
        "vertices.setAresta(finalAresta(89,5))\n",
        "vertices.setAresta(finalAresta(15,6))\n",
        "vertices.setAresta(finalAresta(51,7))\n",
        "vertices.setAresta(finalAresta(17,8))\n",
        "vertices.setAresta(finalAresta(21,9))\n",
        "vertices.setAresta(finalAresta(57,10))\n",
        "grafo.setVertices(vertices)"
      ],
      "metadata": {
        "id": "_tSV-kKpB6Ft"
      },
      "execution_count": 7,
      "outputs": []
    },
    {
      "cell_type": "code",
      "source": [
        "#Vertice 5\n",
        "vertices = vertice(5)\n",
        "vertices.setAresta(finalAresta(26,1))\n",
        "vertices.setAresta(finalAresta(46,2))\n",
        "vertices.setAresta(finalAresta(6,3))\n",
        "vertices.setAresta(finalAresta(89,4))\n",
        "vertices.setAresta(finalAresta(26,6))\n",
        "vertices.setAresta(finalAresta(26,7))\n",
        "vertices.setAresta(finalAresta(61,8))\n",
        "vertices.setAresta(finalAresta(69,9))\n",
        "vertices.setAresta(finalAresta(4,10))\n",
        "grafo.setVertices(vertices)"
      ],
      "metadata": {
        "id": "OKmOO1VOCCiR"
      },
      "execution_count": 8,
      "outputs": []
    },
    {
      "cell_type": "code",
      "source": [
        "#Vertice 6\n",
        "vertices = vertice(6)\n",
        "vertices.setAresta(finalAresta(62,1))\n",
        "vertices.setAresta(finalAresta(94,2))\n",
        "vertices.setAresta(finalAresta(86,3))\n",
        "vertices.setAresta(finalAresta(15,4))\n",
        "vertices.setAresta(finalAresta(26,5))\n",
        "vertices.setAresta(finalAresta(95,7))\n",
        "vertices.setAresta(finalAresta(95,8))\n",
        "vertices.setAresta(finalAresta(63,9))\n",
        "vertices.setAresta(finalAresta(60,10))\n",
        "grafo.setVertices(vertices)"
      ],
      "metadata": {
        "id": "AieLHHrOKFPF"
      },
      "execution_count": 9,
      "outputs": []
    },
    {
      "cell_type": "code",
      "source": [
        "#Vertice 7\n",
        "vertices = vertice(7)\n",
        "vertices.setAresta(finalAresta(23,1))\n",
        "vertices.setAresta(finalAresta(3,2))\n",
        "vertices.setAresta(finalAresta(64,3))\n",
        "vertices.setAresta(finalAresta(51,4))\n",
        "vertices.setAresta(finalAresta(26,5))\n",
        "vertices.setAresta(finalAresta(95,6))\n",
        "vertices.setAresta(finalAresta(56,8))\n",
        "vertices.setAresta(finalAresta(83,9))\n",
        "vertices.setAresta(finalAresta(69,10))\n",
        "grafo.setVertices(vertices)"
      ],
      "metadata": {
        "id": "iZHKbImgKFf6"
      },
      "execution_count": 10,
      "outputs": []
    },
    {
      "cell_type": "code",
      "source": [
        "#Vertice 8\n",
        "vertices = vertice(8)\n",
        "vertices.setAresta(finalAresta(89,1))\n",
        "vertices.setAresta(finalAresta(72,2))\n",
        "vertices.setAresta(finalAresta(63,3))\n",
        "vertices.setAresta(finalAresta(17,4))\n",
        "vertices.setAresta(finalAresta(61,5))\n",
        "vertices.setAresta(finalAresta(95,6))\n",
        "vertices.setAresta(finalAresta(56,7))\n",
        "vertices.setAresta(finalAresta(86,9))\n",
        "vertices.setAresta(finalAresta(78,10))\n",
        "grafo.setVertices(vertices)"
      ],
      "metadata": {
        "id": "qna0Lx1dKFtL"
      },
      "execution_count": 11,
      "outputs": []
    },
    {
      "cell_type": "code",
      "source": [
        "#Vertice 9\n",
        "vertices = vertice(9)\n",
        "vertices.setAresta(finalAresta(28,1))\n",
        "vertices.setAresta(finalAresta(98,2))\n",
        "vertices.setAresta(finalAresta(93,3))\n",
        "vertices.setAresta(finalAresta(21,4))\n",
        "vertices.setAresta(finalAresta(69,5))\n",
        "vertices.setAresta(finalAresta(623,6))\n",
        "vertices.setAresta(finalAresta(83,7))\n",
        "vertices.setAresta(finalAresta(83,8))\n",
        "vertices.setAresta(finalAresta(88,10))\n",
        "grafo.setVertices(vertices)"
      ],
      "metadata": {
        "id": "QVcGEhQTKF6i"
      },
      "execution_count": 12,
      "outputs": []
    },
    {
      "cell_type": "code",
      "source": [
        "#Vertice 10\n",
        "vertices = vertice(10)\n",
        "vertices.setAresta(finalAresta(73,1))\n",
        "vertices.setAresta(finalAresta(56,2))\n",
        "vertices.setAresta(finalAresta(89,3))\n",
        "vertices.setAresta(finalAresta(57,4))\n",
        "vertices.setAresta(finalAresta(4,5))\n",
        "vertices.setAresta(finalAresta(60,6))\n",
        "vertices.setAresta(finalAresta(69,7))\n",
        "vertices.setAresta(finalAresta(78,8))\n",
        "vertices.setAresta(finalAresta(88,9))\n",
        "grafo.setVertices(vertices)"
      ],
      "metadata": {
        "id": "0maowlUrKGGq"
      },
      "execution_count": 13,
      "outputs": []
    },
    {
      "cell_type": "code",
      "source": [
        "grafo.menorCaminho(1)"
      ],
      "metadata": {
        "colab": {
          "base_uri": "https://localhost:8080/"
        },
        "id": "Cs3RSFtDDgeN",
        "outputId": "36e921fd-554f-4eb3-cfa4-463a49dc22ce"
      },
      "execution_count": 14,
      "outputs": [
        {
          "output_type": "stream",
          "name": "stdout",
          "text": [
            "[1, 3, 5, 10, 2, 7, 4, 6, 9, 8]\n"
          ]
        }
      ]
    }
  ]
}