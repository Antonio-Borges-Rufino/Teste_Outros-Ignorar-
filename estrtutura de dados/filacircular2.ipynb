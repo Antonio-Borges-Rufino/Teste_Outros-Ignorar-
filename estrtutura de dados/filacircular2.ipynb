{
  "nbformat": 4,
  "nbformat_minor": 0,
  "metadata": {
    "colab": {
      "name": "filacircular2.ipynb",
      "provenance": [],
      "collapsed_sections": []
    },
    "kernelspec": {
      "name": "python3",
      "display_name": "Python 3"
    },
    "language_info": {
      "name": "python"
    }
  },
  "cells": [
    {
      "cell_type": "code",
      "execution_count": 56,
      "metadata": {
        "id": "jgYMUsp_elvA"
      },
      "outputs": [],
      "source": [
        "class filaCircular:\n",
        "  def __init__(self):\n",
        "    self.elemento = None\n",
        "    self.proximo = None\n",
        "  \n",
        "  def inserir(self, elemento):\n",
        "    if self.elemento is None:\n",
        "      self.elemento = elemento\n",
        "      self.proximo = filaCircular()\n",
        "    else:\n",
        "      self.proximo.inserir(elemento = elemento)\n",
        "    \n",
        "  def mostrar(self):\n",
        "    if self.elemento is None:\n",
        "      pass\n",
        "    else:\n",
        "      print(self.elemento)\n",
        "      self.proximo.mostrar()\n",
        "  \n",
        "  def remover(self):\n",
        "    self.inserir(self.elemento)\n",
        "    print('Elemento {} foi para o final da fila'.format(self.elemento))\n",
        "    self.elemento = self.proximo.elemento\n",
        "    self.proximo = self.proximo.proximo\n",
        "      "
      ]
    }
  ]
}